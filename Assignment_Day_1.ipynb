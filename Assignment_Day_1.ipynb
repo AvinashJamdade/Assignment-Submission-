{
  "nbformat": 4,
  "nbformat_minor": 0,
  "metadata": {
    "colab": {
      "name": "Assignment Day 1.ipynb",
      "provenance": []
    },
    "kernelspec": {
      "name": "python3",
      "display_name": "Python 3"
    },
    "language_info": {
      "name": "python"
    }
  },
  "cells": [
    {
      "cell_type": "code",
      "execution_count": 1,
      "metadata": {
        "colab": {
          "base_uri": "https://localhost:8080/"
        },
        "id": "evTsnJZ9Sw-C",
        "outputId": "340b72f4-fb00-467f-eb03-5991890c0507"
      },
      "outputs": [
        {
          "output_type": "stream",
          "name": "stdout",
          "text": [
            "Enter the value of number10 20 30 40 50\n",
            "['10', '20', '30', '40', '50']\n",
            "[10, 20, 30, 40, 50]\n",
            "150\n"
          ]
        }
      ],
      "source": [
        "# Assignment Question of DAY 1\n",
        "\n",
        "\n",
        "x = input(\"Enter the value of number\").split()\n",
        "print(x)\n",
        "y =[]\n",
        "for i in x:\n",
        "  y.append(int(i))\n",
        "print(y)   \n",
        "sum = 0\n",
        "for i in y:\n",
        "  sum = sum + i\n",
        "\n",
        "print(sum)  \n",
        "\n"
      ]
    },
    {
      "cell_type": "code",
      "source": [
        "x = input(\"Enter the value of number\").split()\n",
        "print(x)\n",
        "y =[]\n",
        "for i in x:\n",
        "  y.append(int(i))\n",
        "print(y)   \n",
        "mutiply = 1\n",
        "for i in y:\n",
        "  mutiply = mutiply * i\n",
        "\n",
        "print(mutiply)  "
      ],
      "metadata": {
        "colab": {
          "base_uri": "https://localhost:8080/"
        },
        "id": "Vo-WGP81S6sn",
        "outputId": "eeb9f886-5d7b-495d-d1d7-6615c9e2eaf5"
      },
      "execution_count": 2,
      "outputs": [
        {
          "output_type": "stream",
          "name": "stdout",
          "text": [
            "Enter the value of number10 20 30\n",
            "['10', '20', '30']\n",
            "[10, 20, 30]\n",
            "6000\n"
          ]
        }
      ]
    },
    {
      "cell_type": "code",
      "source": [
        "x = input(\"Enter the value of number\").split()\n",
        "print(x)\n",
        "y =[]\n",
        "for i in x:\n",
        "  y.append(int(i))\n",
        "print(y)   \n",
        "sub = 1000\n",
        "for i in y:\n",
        "  sub = sub - i\n",
        "\n",
        "print(sub)  \n"
      ],
      "metadata": {
        "colab": {
          "base_uri": "https://localhost:8080/"
        },
        "id": "Zb_zAGShWJHB",
        "outputId": "d43a23e3-128b-440e-f280-26272317d900"
      },
      "execution_count": 5,
      "outputs": [
        {
          "output_type": "stream",
          "name": "stdout",
          "text": [
            "Enter the value of number500 54 \n",
            "['500', '54']\n",
            "[500, 54]\n",
            "446\n"
          ]
        }
      ]
    },
    {
      "cell_type": "code",
      "source": [
        "x= input(\"Enter the value of number \")\n",
        "y = x.split()\n",
        "print (y)"
      ],
      "metadata": {
        "colab": {
          "base_uri": "https://localhost:8080/"
        },
        "id": "cZgNh1AfWevv",
        "outputId": "3f83005e-5f2b-4456-fef4-e8409e4719ae"
      },
      "execution_count": 6,
      "outputs": [
        {
          "output_type": "stream",
          "name": "stdout",
          "text": [
            "Enter the value of number 45 25 \n",
            "['45', '25']\n"
          ]
        }
      ]
    },
    {
      "cell_type": "code",
      "source": [
        ""
      ],
      "metadata": {
        "id": "dI4Vk7y7XJdE"
      },
      "execution_count": null,
      "outputs": []
    }
  ]
}